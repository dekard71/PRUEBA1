{
 "cells": [
  {
   "cell_type": "code",
   "execution_count": 10,
   "id": "1e59fdb0",
   "metadata": {},
   "outputs": [],
   "source": [
    "def codigo_1 ( number ):\n",
    "    a = 0\n",
    "    for j in range(1, number+1):\n",
    "        a += a + j\n",
    "    \n",
    "    for k in range(number, 0, -1):\n",
    "        a -= 1\n",
    "        a *= 2\n",
    "    return a\n",
    "# complejidad algorítmnica 3n+1"
   ]
  },
  {
   "cell_type": "markdown",
   "id": "5d961b11",
   "metadata": {},
   "source": [
    "---"
   ]
  },
  {
   "cell_type": "code",
   "execution_count": 12,
   "id": "bb39e09a",
   "metadata": {},
   "outputs": [],
   "source": [
    "def codigo_2():\n",
    "    a = 0\n",
    "    a -= 1\n",
    "    a *= 2\n",
    "\n",
    "# Complejidad F(x)3 ç"
   ]
  },
  {
   "cell_type": "markdown",
   "id": "9c789e9e",
   "metadata": {},
   "source": [
    "---"
   ]
  },
  {
   "cell_type": "code",
   "execution_count": 14,
   "id": "ae023ebb",
   "metadata": {},
   "outputs": [],
   "source": [
    "def codigo_3 ( number ):\n",
    "    a = 0;\n",
    "    \n",
    "    for j in range(1, number+1):\n",
    "        for k in range(1, number+1):\n",
    "            a += a + ( k*j )\n",
    "        \n",
    "    return a\n",
    "\n",
    "# Complejidad F(x)= n**2"
   ]
  },
  {
   "cell_type": "markdown",
   "id": "2dc0d686",
   "metadata": {},
   "source": [
    "---"
   ]
  },
  {
   "cell_type": "code",
   "execution_count": 16,
   "id": "7741b0a4",
   "metadata": {},
   "outputs": [],
   "source": [
    "def codigo_4(array):\n",
    "    for k in range (len(array)):\n",
    "        if(array[k] % 2 ==0):\n",
    "            return k\n",
    "        \n",
    "    return null            "
   ]
  },
  {
   "cell_type": "markdown",
   "id": "f943c354",
   "metadata": {},
   "source": [
    "---"
   ]
  },
  {
   "cell_type": "code",
   "execution_count": 17,
   "id": "55eaf8e6",
   "metadata": {},
   "outputs": [],
   "source": [
    "def constante():\n",
    "    x = 50\n",
    "    ++x\n",
    "    return x"
   ]
  },
  {
   "cell_type": "code",
   "execution_count": null,
   "id": "c9d07c95",
   "metadata": {},
   "outputs": [],
   "source": []
  },
  {
   "cell_type": "code",
   "execution_count": null,
   "id": "df1fa0d5",
   "metadata": {},
   "outputs": [],
   "source": [
    "    "
   ]
  }
 ],
 "metadata": {
  "kernelspec": {
   "display_name": "Python 3 (ipykernel)",
   "language": "python",
   "name": "python3"
  },
  "language_info": {
   "codemirror_mode": {
    "name": "ipython",
    "version": 3
   },
   "file_extension": ".py",
   "mimetype": "text/x-python",
   "name": "python",
   "nbconvert_exporter": "python",
   "pygments_lexer": "ipython3",
   "version": "3.9.12"
  }
 },
 "nbformat": 4,
 "nbformat_minor": 5
}
