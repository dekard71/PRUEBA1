{
 "cells": [
  {
   "cell_type": "code",
   "execution_count": 1,
   "id": "2a71b56e",
   "metadata": {},
   "outputs": [],
   "source": [
    "# --- -2 --- -1 --- 0 --- 1 --- 2 ---"
   ]
  },
  {
   "cell_type": "code",
   "execution_count": 6,
   "id": "6f7ea39e",
   "metadata": {},
   "outputs": [],
   "source": [
    "import numpy as np\n",
    "from numpy.random import randn"
   ]
  },
  {
   "cell_type": "code",
   "execution_count": 21,
   "id": "f1886636",
   "metadata": {},
   "outputs": [
    {
     "data": {
      "text/plain": [
       "-0.5359940405978707"
      ]
     },
     "execution_count": 21,
     "metadata": {},
     "output_type": "execute_result"
    }
   ],
   "source": [
    "randn()"
   ]
  },
  {
   "cell_type": "code",
   "execution_count": 138,
   "id": "cfde1fc5",
   "metadata": {},
   "outputs": [
    {
     "name": "stdout",
     "output_type": "stream",
     "text": [
      "0.14104118230492513\n",
      "None\n"
     ]
    }
   ],
   "source": [
    "# Condicional if\n",
    "# --- -2 --- -1 --- 0 --- 1 --- 2 ---\n",
    "x = randn()\n",
    "respuesta  = None\n",
    "if x > 1:\n",
    "    respuesta = \"Mayor que 1\"\n",
    "print(x)\n",
    "print(respuesta) "
   ]
  },
  {
   "cell_type": "code",
   "execution_count": 159,
   "id": "3b5ede41",
   "metadata": {},
   "outputs": [
    {
     "name": "stdout",
     "output_type": "stream",
     "text": [
      "0.7337374437751576\n",
      "Menor a 1\n"
     ]
    }
   ],
   "source": [
    "# Condicional else\n",
    "x = randn()\n",
    "respuesta  = None\n",
    "if x > 1:\n",
    "    respuesta = \"Mayor que 1\"\n",
    "else:\n",
    "    respuesta = \"Menor a 1\"    \n",
    "print(x)\n",
    "print(respuesta) "
   ]
  },
  {
   "cell_type": "code",
   "execution_count": 164,
   "id": "c3a6c1f0",
   "metadata": {},
   "outputs": [
    {
     "name": "stdout",
     "output_type": "stream",
     "text": [
      "-0.8377129666749509\n",
      "Entre -1 y 1\n"
     ]
    }
   ],
   "source": [
    "# Condicionales anidados\n",
    "# --- -2 --- -1 --- 0 --- 1 --- 2 ---\n",
    "x = randn()\n",
    "respuesta  = None\n",
    "if x > 1:\n",
    "    respuesta = \"Mayor que 1\"\n",
    "else:\n",
    "    if x > -1:\n",
    "        respuesta = \"Entre -1 y 1\"    \n",
    "    else:\n",
    "        respuesta = \"Menor a -1\"\n",
    "print(x)\n",
    "print(respuesta) "
   ]
  },
  {
   "cell_type": "code",
   "execution_count": 9,
   "id": "2e13d2cf",
   "metadata": {},
   "outputs": [
    {
     "ename": "NameError",
     "evalue": "name 'randn' is not defined",
     "output_type": "error",
     "traceback": [
      "\u001b[1;31m---------------------------------------------------------------------------\u001b[0m",
      "\u001b[1;31mNameError\u001b[0m                                 Traceback (most recent call last)",
      "Input \u001b[1;32mIn [9]\u001b[0m, in \u001b[0;36m<cell line: 3>\u001b[1;34m()\u001b[0m\n\u001b[0;32m      1\u001b[0m \u001b[38;5;66;03m# Condicionales Encadenados\u001b[39;00m\n\u001b[0;32m      2\u001b[0m \u001b[38;5;66;03m# --- -2 --- -1 --- 0 --- 1 --- 2 ---\u001b[39;00m\n\u001b[1;32m----> 3\u001b[0m x \u001b[38;5;241m=\u001b[39m \u001b[43mrandn\u001b[49m()\n\u001b[0;32m      4\u001b[0m respuesta  \u001b[38;5;241m=\u001b[39m \u001b[38;5;28;01mNone\u001b[39;00m\n\u001b[0;32m      5\u001b[0m \u001b[38;5;28;01mif\u001b[39;00m x \u001b[38;5;241m>\u001b[39m \u001b[38;5;241m1\u001b[39m:\n",
      "\u001b[1;31mNameError\u001b[0m: name 'randn' is not defined"
     ]
    }
   ],
   "source": [
    "# Condicionales Encadenados\n",
    "# --- -2 --- -1 --- 0 --- 1 --- 2 ---\n",
    "x = randn()\n",
    "respuesta  = None\n",
    "if x > 1:\n",
    "    respuesta = \"Mayor que 1\"\n",
    "elif x > -1:\n",
    "    respuesta = \"Entre -1 y 1\"    \n",
    "else:\n",
    "    respuesta = \"Menor a -1\"\n",
    "\n",
    "print(x)\n",
    "print(respuesta)"
   ]
  },
  {
   "cell_type": "markdown",
   "id": "f84c8690",
   "metadata": {},
   "source": [
    "---"
   ]
  },
  {
   "cell_type": "code",
   "execution_count": 15,
   "id": "093f33fb",
   "metadata": {},
   "outputs": [
    {
     "name": "stdout",
     "output_type": "stream",
     "text": [
      "Hola\n",
      "-1.1086087325367047\n",
      "Menor a -1\n"
     ]
    }
   ],
   "source": [
    "# Indentación en python\n",
    "# --- -2 --- -1 --- 0 --- 1 --- 2 ---\n",
    "import numpy as np\n",
    "from numpy.random import randn\n",
    "randn()\n",
    "x = randn()\n",
    "respuesta  = None\n",
    "if x > 1:\n",
    "    respuesta = \"Mayor que 1\"\n",
    "elif x > -1:\n",
    "    respuesta = \"Entre -1 y 1\"    \n",
    "else:\n",
    "    respuesta = \"Menor a -1\"\n",
    "    print (\"Hola\")\n",
    "print(x)\n",
    "print(respuesta)"
   ]
  }
 ],
 "metadata": {
  "kernelspec": {
   "display_name": "Python 3 (ipykernel)",
   "language": "python",
   "name": "python3"
  },
  "language_info": {
   "codemirror_mode": {
    "name": "ipython",
    "version": 3
   },
   "file_extension": ".py",
   "mimetype": "text/x-python",
   "name": "python",
   "nbconvert_exporter": "python",
   "pygments_lexer": "ipython3",
   "version": "3.9.12"
  }
 },
 "nbformat": 4,
 "nbformat_minor": 5
}
