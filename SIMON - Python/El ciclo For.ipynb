{
 "cells": [
  {
   "cell_type": "code",
   "execution_count": 1,
   "id": "6ba4b2ab",
   "metadata": {},
   "outputs": [
    {
     "name": "stdout",
     "output_type": "stream",
     "text": [
      "0\n",
      "1\n",
      "2\n",
      "3\n",
      "4\n",
      "5\n",
      "6\n",
      "7\n",
      "8\n",
      "9\n",
      "10\n",
      "11\n"
     ]
    }
   ],
   "source": [
    "contador = 0\n",
    "\n",
    "while contador < 12:\n",
    "    print (contador)\n",
    "    contador = contador + 1"
   ]
  },
  {
   "cell_type": "code",
   "execution_count": 2,
   "id": "2810bf36",
   "metadata": {},
   "outputs": [
    {
     "name": "stdout",
     "output_type": "stream",
     "text": [
      "Hola Python\n",
      "Hola Python\n",
      "Hola Python\n",
      "Hola Python\n",
      "Hola Python\n"
     ]
    }
   ],
   "source": [
    "for i in range(5):\n",
    "    print (\"Hola Python\")"
   ]
  },
  {
   "cell_type": "code",
   "execution_count": 4,
   "id": "da39126c",
   "metadata": {},
   "outputs": [
    {
     "data": {
      "text/plain": [
       "range(0, 5)"
      ]
     },
     "execution_count": 4,
     "metadata": {},
     "output_type": "execute_result"
    }
   ],
   "source": [
    "range(5) # Diferente a Python 2.7"
   ]
  },
  {
   "cell_type": "code",
   "execution_count": 5,
   "id": "368da295",
   "metadata": {},
   "outputs": [
    {
     "data": {
      "text/plain": [
       "[0, 1, 2, 3, 4]"
      ]
     },
     "execution_count": 5,
     "metadata": {},
     "output_type": "execute_result"
    }
   ],
   "source": [
    "list (range(5))"
   ]
  },
  {
   "cell_type": "markdown",
   "id": "9ac947e9",
   "metadata": {},
   "source": [
    "---"
   ]
  },
  {
   "cell_type": "code",
   "execution_count": 7,
   "id": "49144c6c",
   "metadata": {},
   "outputs": [
    {
     "name": "stdout",
     "output_type": "stream",
     "text": [
      "Hola Python:  0\n",
      "Hola Python:  1\n",
      "Hola Python:  2\n",
      "Hola Python:  3\n",
      "Hola Python:  4\n"
     ]
    }
   ],
   "source": [
    "for i in range (5):\n",
    "    print (\"Hola Python: \",i)"
   ]
  },
  {
   "cell_type": "markdown",
   "id": "617ad1d8",
   "metadata": {},
   "source": [
    "---"
   ]
  },
  {
   "cell_type": "code",
   "execution_count": 9,
   "id": "e044ee3d",
   "metadata": {},
   "outputs": [],
   "source": [
    "# otra manera de trabajar con este código\n",
    "mylist =[10,100,1000]"
   ]
  },
  {
   "cell_type": "code",
   "execution_count": 10,
   "id": "512555a9",
   "metadata": {},
   "outputs": [
    {
     "name": "stdout",
     "output_type": "stream",
     "text": [
      "[10, 100, 1000]\n"
     ]
    }
   ],
   "source": [
    "print (mylist)"
   ]
  },
  {
   "cell_type": "code",
   "execution_count": 6,
   "id": "8f1e70c9",
   "metadata": {},
   "outputs": [
    {
     "name": "stdout",
     "output_type": "stream",
     "text": [
      "jj es igual a:  10\n",
      "jj es igual a:  100\n",
      "jj es igual a:  1000\n"
     ]
    }
   ],
   "source": [
    "mylist =[10,100,1000]\n",
    "for jj in mylist:\n",
    "    print(\"jj es igual a: \", jj)"
   ]
  },
  {
   "cell_type": "code",
   "execution_count": null,
   "id": "47e7e821",
   "metadata": {},
   "outputs": [],
   "source": []
  }
 ],
 "metadata": {
  "kernelspec": {
   "display_name": "Python 3 (ipykernel)",
   "language": "python",
   "name": "python3"
  },
  "language_info": {
   "codemirror_mode": {
    "name": "ipython",
    "version": 3
   },
   "file_extension": ".py",
   "mimetype": "text/x-python",
   "name": "python",
   "nbconvert_exporter": "python",
   "pygments_lexer": "ipython3",
   "version": "3.9.12"
  }
 },
 "nbformat": 4,
 "nbformat_minor": 5
}
