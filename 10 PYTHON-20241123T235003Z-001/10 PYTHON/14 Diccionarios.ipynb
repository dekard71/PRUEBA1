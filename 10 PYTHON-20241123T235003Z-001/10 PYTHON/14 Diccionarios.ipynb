{
 "cells": [
  {
   "cell_type": "code",
   "execution_count": null,
   "id": "d3ab38fe",
   "metadata": {},
   "outputs": [],
   "source": [
    "#   DICCIONARIOS\n",
    "\n",
    "\"\"\"Los diccionarios, también llamados matrices asociativas, deben su nombre a que son \n",
    "colecciones que relacionan una clave y un valor.\n",
    "Un diccionario es una colección desordenada, modificable e indexada. \n",
    "En Python, los diccionarios se escriben entre llaves y tienen claves y valores.\n",
    "\"\"\"\n",
    "\n",
    "#   Declaración de un diccionario\n",
    "\n",
    "miDiccionario = {\n",
    "  \"brand\": \"Ford\",\n",
    "  \"model\": \"Mustang\",\n",
    "  \"year\": 1964\n",
    "}\n",
    "print(miDiccionario)"
   ]
  },
  {
   "cell_type": "code",
   "execution_count": null,
   "id": "d0d6eaea",
   "metadata": {},
   "outputs": [],
   "source": [
    "#   A los valores almacenados en un diccionario se accede por su clave\n",
    "\n",
    "peliculas = {\"Love Actually\": \"Richard Curtis\", \n",
    "\"Kill Bill\": \"Tarantino\",\n",
    "\"Amélie\": \"Jean-Pierre Jeunet\"}\n",
    "\n",
    "peliculas[\"Love Actually\"] "
   ]
  },
  {
   "cell_type": "code",
   "execution_count": null,
   "id": "2b5150d3",
   "metadata": {},
   "outputs": [],
   "source": [
    "# Reasignar valores a un diccionario\n",
    "\n",
    "peliculas[\"Kill Bill\"] = \"Quentin Tarantino\"\n",
    "print(peliculas)"
   ]
  },
  {
   "cell_type": "code",
   "execution_count": null,
   "id": "7631258d",
   "metadata": {},
   "outputs": [],
   "source": [
    "#   Usar una tupla dentro de un diccionario:\n",
    "\n",
    "miDiccionario3={\"nombre\":\"Jordan\", \"Equipo\":\"Bulls\", \"Anillos\":[1991, 1992, 1993, 1996, 1997, 1998]}\n",
    "print(miDiccionario3[\"Anillos\"])"
   ]
  },
  {
   "cell_type": "code",
   "execution_count": null,
   "id": "7a9424be",
   "metadata": {},
   "outputs": [],
   "source": [
    "#   Quitar valores de un diccionario\n",
    "\n",
    "peliculas = {\"Love Actually\": \"Richard Curtis\", \n",
    "\"Kill Bill\": \"Tarantino\",\n",
    "\"Amélie\": \"Jean-Pierre Jeunet\"}\n",
    "\n",
    "peliculas.pop(\"Love Actually\")\t\n",
    "\n",
    "print(peliculas)"
   ]
  },
  {
   "cell_type": "code",
   "execution_count": null,
   "id": "8fc183f5",
   "metadata": {},
   "outputs": [],
   "source": [
    "#   Crear un diccionario a partir de dos listas:\n",
    "\n",
    "lista_claves=[\"nombre\", \"edad\"]\n",
    "lista_valores=[\"Angel\", 43]\n",
    "diccionario = dict(zip(lista_claves , lista_valores))\n",
    "print(diccionario)"
   ]
  },
  {
   "cell_type": "code",
   "execution_count": null,
   "id": "f8af6cea",
   "metadata": {},
   "outputs": [],
   "source": [
    "#   Para comprobar si una clave está en el diccionario:\n",
    "\n",
    "\"nombre\" in diccionario\t\t#Devuelve true o false"
   ]
  },
  {
   "cell_type": "code",
   "execution_count": null,
   "id": "9e0aaa3a",
   "metadata": {},
   "outputs": [],
   "source": [
    "#   Imprima las claves del diccionario:\n",
    "\n",
    "peliculas = {\"Love Actually\": \"Richard Curtis\", \n",
    "\"Kill Bill\": \"Tarantino\",\n",
    "\"Amélie\": \"Jean-Pierre Jeunet\"}\n",
    "for x in peliculas:\n",
    "      print(peliculas[x])"
   ]
  },
  {
   "cell_type": "code",
   "execution_count": null,
   "id": "aebc26f9",
   "metadata": {},
   "outputs": [],
   "source": [
    "#   Longitud de un diccionario:\n",
    "\n",
    "peliculas = {\"Love Actually\": \"Richard Curtis\", \n",
    "\"Kill Bill\": \"Tarantino\",\n",
    "\"Amélie\": \"Jean-Pierre Jeunet\"}\n",
    "\n",
    "print(len(peliculas))"
   ]
  },
  {
   "cell_type": "code",
   "execution_count": null,
   "id": "6c3c16a7",
   "metadata": {},
   "outputs": [],
   "source": [
    "#   Agregar elementos a un diccionario:\n",
    "\n",
    "miDiccionario = {\n",
    "  \"brand\": \"Ford\",\n",
    "  \"model\": \"Mustang\",\n",
    "  \"year\": 1964\n",
    "}\n",
    "miDiccionario[\"color\"] = \"red\"\n",
    "print(miDiccionario)"
   ]
  },
  {
   "cell_type": "code",
   "execution_count": null,
   "id": "661147e0",
   "metadata": {},
   "outputs": [],
   "source": [
    "#   Eliminar el último elemento insertado:\n",
    "\n",
    "miDiccionario = {\n",
    "  \"brand\": \"Ford\",\n",
    "  \"model\": \"Mustang\",\n",
    "  \"year\": 1964\n",
    "}\n",
    "miDiccionario.popitem()\n",
    "print(miDiccionario)"
   ]
  },
  {
   "cell_type": "code",
   "execution_count": null,
   "id": "4edce570",
   "metadata": {},
   "outputs": [],
   "source": [
    "#   La palabra clave del elimina el elemento con el nombre de clave especificado:\n",
    "\n",
    "miDiccionario = {\n",
    "  \"brand\": \"Ford\",\n",
    "  \"model\": \"Mustang\",\n",
    "  \"year\": 1964\n",
    "}\n",
    "del miDiccionario[\"model\"]\n",
    "print(miDiccionario)"
   ]
  },
  {
   "cell_type": "code",
   "execution_count": null,
   "id": "9ea4c26e",
   "metadata": {},
   "outputs": [],
   "source": [
    "#   La palabra clave del también puede eliminar completamente el diccionario:\n",
    "\n",
    "miDiccionario = {\n",
    "  \"brand\": \"Ford\",\n",
    "  \"model\": \"Mustang\",\n",
    "  \"year\": 1964\n",
    "}\n",
    "del miDiccionario\n",
    "print(miDiccionario)"
   ]
  },
  {
   "cell_type": "code",
   "execution_count": null,
   "id": "7308ac8c",
   "metadata": {},
   "outputs": [],
   "source": [
    "# La palabra clave clear() vacía el diccionario:\n",
    "\n",
    "miDiccionario = {\n",
    "  \"brand\": \"Ford\",\n",
    "  \"model\": \"Mustang\",\n",
    "  \"year\": 1964\n",
    "}\n",
    "miDiccionario.clear()\n",
    "print(miDiccionario)"
   ]
  },
  {
   "cell_type": "code",
   "execution_count": null,
   "id": "afe6355c",
   "metadata": {},
   "outputs": [],
   "source": [
    "#   Copiar un diccionario\n",
    "\n",
    "miDiccionario = {\n",
    "  \"brand\": \"Ford\",\n",
    "  \"model\": \"Mustang\",\n",
    "  \"year\": 1964\n",
    "}\n",
    "midict = miDiccionario.copy()\n",
    "print(midict)"
   ]
  },
  {
   "cell_type": "code",
   "execution_count": null,
   "id": "75418a64",
   "metadata": {},
   "outputs": [],
   "source": [
    "#   Otra forma de copiar un diccionario\n",
    "\n",
    "miDiccionario = {\n",
    "  \"brand\": \"Ford\",\n",
    "  \"model\": \"Mustang\",\n",
    "  \"year\": 1964\n",
    "}\n",
    "midict = dict(miDiccionario)\n",
    "print(midict)"
   ]
  },
  {
   "cell_type": "code",
   "execution_count": null,
   "id": "b874c7c1",
   "metadata": {},
   "outputs": [],
   "source": [
    "#   Diccionarios anidados\n",
    "\n",
    "child1 = {  \"name\" : \"Emil\",\"year\" : 2004}\n",
    "child2 = {  \"name\" : \"Tobias\",\n",
    "  \"year\" : 2007\n",
    "}\n",
    "child3 = {\n",
    "  \"name\" : \"Linus\",\n",
    "  \"year\" : 2011\n",
    "}\n",
    "\n",
    "myfamily = {\n",
    "  \"child1\" : child1,\n",
    "  \"child2\" : child2,\n",
    "  \"child3\" : child3\n",
    "}\n",
    "\n",
    "print(myfamily[\"child1\"])"
   ]
  }
 ],
 "metadata": {
  "kernelspec": {
   "display_name": "Python 3 (ipykernel)",
   "language": "python",
   "name": "python3"
  },
  "language_info": {
   "codemirror_mode": {
    "name": "ipython",
    "version": 3
   },
   "file_extension": ".py",
   "mimetype": "text/x-python",
   "name": "python",
   "nbconvert_exporter": "python",
   "pygments_lexer": "ipython3",
   "version": "3.9.12"
  }
 },
 "nbformat": 4,
 "nbformat_minor": 5
}
