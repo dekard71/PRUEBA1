{
 "cells": [
  {
   "cell_type": "code",
   "execution_count": 2,
   "id": "fbfe09c8",
   "metadata": {},
   "outputs": [
    {
     "name": "stdout",
     "output_type": "stream",
     "text": [
      "Introduce un número (5 para detener): 6\n",
      "Introduce un número (5 para detener): 8\n",
      "Introduce un número (5 para detener): 5\n",
      "¡Número 5 encontrado!\n"
     ]
    }
   ],
   "source": [
    "# Implementa un programa que le pida al usuario introducir números hasta que \n",
    "# introduzca el número 5. Cuando eso ocurra, el programa debe imprimir un \n",
    "# mensaje indicando que se encontró el número 5\n",
    "\n",
    "numero = int(input(\"Introduce un número (5 para detener): \"))\n",
    "while numero != 5:\n",
    "    numero = int(input(\"Introduce un número (5 para detener): \"))\n",
    "print(\"¡Número 5 encontrado!\")"
   ]
  }
 ],
 "metadata": {
  "kernelspec": {
   "display_name": "Python 3 (ipykernel)",
   "language": "python",
   "name": "python3"
  },
  "language_info": {
   "codemirror_mode": {
    "name": "ipython",
    "version": 3
   },
   "file_extension": ".py",
   "mimetype": "text/x-python",
   "name": "python",
   "nbconvert_exporter": "python",
   "pygments_lexer": "ipython3",
   "version": "3.9.12"
  }
 },
 "nbformat": 4,
 "nbformat_minor": 5
}
