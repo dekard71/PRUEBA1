{
 "cells": [
  {
   "cell_type": "code",
   "execution_count": null,
   "id": "0f665875",
   "metadata": {},
   "outputs": [],
   "source": [
    "#   TUPLAS\n",
    "\n",
    "\"\"\"Una tupla es una colección ordenada e inmutable. \n",
    "En Python, las tuplas se escriben entre paréntesis.\n",
    "\"\"\"\n",
    "\n",
    "#       Declaración de una tupla\n",
    "\n",
    "miTupla = (\"manzana\", \"banana\", \"cereza\")\n",
    "print(miTupla[1])"
   ]
  },
  {
   "cell_type": "code",
   "execution_count": null,
   "id": "8c075005",
   "metadata": {},
   "outputs": [],
   "source": [
    "#   Otra forma de declararla\n",
    "\n",
    "miTupla = tuple((\"manzana\", \"banana\", \"cereza\"))\n",
    "print(miTupla)"
   ]
  },
  {
   "cell_type": "code",
   "execution_count": null,
   "id": "4488474a",
   "metadata": {},
   "outputs": [],
   "source": [
    "#   Indexación Negativa\n",
    "\n",
    "miTupla = (\"manzana\", \"banana\", \"cereza\")\n",
    "print(miTupla[-1])"
   ]
  },
  {
   "cell_type": "code",
   "execution_count": null,
   "id": "ac66a8f6",
   "metadata": {},
   "outputs": [],
   "source": [
    "\n",
    "#   Rango de índices\n",
    "#   Devuelve el tercer, cuarto y quinto elemento:\n",
    "\n",
    "miTupla = (\"manzana\", \"banana\", \"cereza\", \"naranja\", \"kiwi\", \"melon\", \"mango\")\n",
    "print(miTupla[2:5])"
   ]
  },
  {
   "cell_type": "code",
   "execution_count": null,
   "id": "c237fc0d",
   "metadata": {},
   "outputs": [],
   "source": [
    "#   Convierta la tupla en una lista para poder cambiarla:\n",
    "\n",
    "miTupla = (\"manzana\", \"banana\", \"cereza\")\n",
    "miLista = list(miTupla)\n",
    "miLista[1] = \"kiwi\"\n",
    "miTupla = tuple(miLista)\n",
    "\n",
    "print(miTupla)"
   ]
  },
  {
   "cell_type": "code",
   "execution_count": null,
   "id": "5a101fe6",
   "metadata": {},
   "outputs": [],
   "source": [
    "#   Recorrer una tupla\n",
    "\n",
    "miTupla = (\"manzana\", \"banana\", \"cereza\")\n",
    "for x in miTupla:\n",
    "  print(x)"
   ]
  },
  {
   "cell_type": "code",
   "execution_count": null,
   "id": "30c4364c",
   "metadata": {},
   "outputs": [],
   "source": [
    "#   Comprobar si existe un elemento\n",
    "#   Compruebe si \"manzana\" está presente en la tupla:\n",
    "\n",
    "miTupla = (\"manzana\", \"banana\", \"cereza\")\n",
    "if \"manzana\" in miTupla:\n",
    "  print(\"Sí, 'manzana' está en la tupla.\")"
   ]
  },
  {
   "cell_type": "code",
   "execution_count": null,
   "id": "930294af",
   "metadata": {},
   "outputs": [],
   "source": [
    "#   Otra forma, simplemente con un boolean\n",
    "\n",
    "print(\"manzana\" in miTupla) "
   ]
  },
  {
   "cell_type": "code",
   "execution_count": null,
   "id": "856ef5f4",
   "metadata": {},
   "outputs": [],
   "source": [
    "#   Longitud de la tupla\n",
    "\n",
    "miTupla = (\"manzana\", \"banana\", \"cereza\")\n",
    "print(len(miTupla))\n",
    "\n",
    "\n",
    "# Unir dos tuplas\n",
    "\n",
    "tupla1 = (\"a\", \"b\" , \"c\")\n",
    "tupla2 = (1, 2, 3)\n",
    "\n",
    "tupla3 = tupla1 + tupla2\n",
    "print(tupla3)\n",
    "\n",
    "#   Cuantas veces se encuentra el elemento 4 en miTupla?\n",
    "\n",
    "miTupla = (\"manzana\", \"banana\", \"cereza\" , \"manzana\")\n",
    "print(miTupla.count(\"manzana\"))\t\n",
    "\n",
    "#   Desempaquetdo de tupla\n",
    "\n",
    "miTupla=(\"Angel\", 4, 5.345, True, 4)\n",
    "nombre, num1, num2, valor1, num3=miTupla\n",
    "\n",
    "print(nombre)\n",
    "print(num1)\n",
    "print(num2)\n",
    "print(valor1)\n",
    "print(num3)"
   ]
  }
 ],
 "metadata": {
  "kernelspec": {
   "display_name": "Python 3 (ipykernel)",
   "language": "python",
   "name": "python3"
  },
  "language_info": {
   "codemirror_mode": {
    "name": "ipython",
    "version": 3
   },
   "file_extension": ".py",
   "mimetype": "text/x-python",
   "name": "python",
   "nbconvert_exporter": "python",
   "pygments_lexer": "ipython3",
   "version": "3.9.12"
  }
 },
 "nbformat": 4,
 "nbformat_minor": 5
}
