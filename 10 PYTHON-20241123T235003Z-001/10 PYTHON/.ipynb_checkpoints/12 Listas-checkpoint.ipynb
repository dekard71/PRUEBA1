{
 "cells": [
  {
   "cell_type": "code",
   "execution_count": 18,
   "id": "bd0ea848",
   "metadata": {},
   "outputs": [
    {
     "ename": "TypeError",
     "evalue": "unsupported operand type(s) for -: 'builtin_function_or_method' and 'int'",
     "output_type": "error",
     "traceback": [
      "\u001b[1;31m---------------------------------------------------------------------------\u001b[0m",
      "\u001b[1;31mTypeError\u001b[0m                                 Traceback (most recent call last)",
      "Input \u001b[1;32mIn [18]\u001b[0m, in \u001b[0;36m<cell line: 11>\u001b[1;34m()\u001b[0m\n\u001b[0;32m      9\u001b[0m miLista\u001b[38;5;241m=\u001b[39m[\u001b[38;5;124m\"\u001b[39m\u001b[38;5;124mAngel\u001b[39m\u001b[38;5;124m\"\u001b[39m, \u001b[38;5;241m43\u001b[39m, \u001b[38;5;241m667767250\u001b[39m] \n\u001b[0;32m     10\u001b[0m miLista2 \u001b[38;5;241m=\u001b[39m [\u001b[38;5;241m22\u001b[39m, \u001b[38;5;28;01mTrue\u001b[39;00m, \u001b[38;5;124m\"\u001b[39m\u001b[38;5;124muna lista\u001b[39m\u001b[38;5;124m\"\u001b[39m, [\u001b[38;5;241m1\u001b[39m, \u001b[38;5;241m2\u001b[39m]]\n\u001b[1;32m---> 11\u001b[0m \u001b[38;5;28mprint\u001b[39m(miLista2(\u001b[38;5;28;43mlen\u001b[39;49m\u001b[38;5;241;43m-\u001b[39;49m\u001b[38;5;241;43m1\u001b[39;49m))\n",
      "\u001b[1;31mTypeError\u001b[0m: unsupported operand type(s) for -: 'builtin_function_or_method' and 'int'"
     ]
    }
   ],
   "source": [
    "#   LISTAS\n",
    "\n",
    "\"\"\"\n",
    "La lista es un tipo de colección ordenada y modificable. \n",
    "Es decir, una secuencia de valores de cualquier tipo, ordenados y de tamaño variable.\n",
    "Se escriben entre corchetes. []\n",
    "\"\"\"\n",
    "\n",
    "miLista=[\"Angel\", 43, 667767250] \n",
    "miLista2 = [22, True, \"una lista\", [1, 2]]\n",
    "print("
   ]
  },
  {
   "cell_type": "code",
   "execution_count": null,
   "id": "0faad74a",
   "metadata": {},
   "outputs": [],
   "source": []
  },
  {
   "cell_type": "code",
   "execution_count": 11,
   "id": "a79afacc",
   "metadata": {},
   "outputs": [
    {
     "name": "stdout",
     "output_type": "stream",
     "text": [
      "['P', 'Y', 'T', 'H', 'O', 'N']\n"
     ]
    }
   ],
   "source": [
    "#   MÉTODOS DE LAS LISTAS\n",
    "\n",
    "#   Hacer una lista de una cadena\n",
    "miLista = list(\"PYTHON\")\n",
    "print(miLista)\n",
    "\n"
   ]
  },
  {
   "cell_type": "code",
   "execution_count": null,
   "id": "6a5e05e4",
   "metadata": {},
   "outputs": [],
   "source": [
    "#   Acceder a los elementos de una lista\n",
    "miLista = [22, True, \"una cadena\", [1, 2]]\n",
    "print(miLista[0])\n",
    "\n",
    "miLista = [[1,2] , [3,4] , [5,6]]\n",
    "miVar = miLista[1,1]\n",
    "print(miVar)\n",
    "\n"
   ]
  },
  {
   "cell_type": "code",
   "execution_count": null,
   "id": "4ed5af93",
   "metadata": {},
   "outputs": [],
   "source": [
    "#   Función con una lista como parámetro\n",
    "\n",
    "def miFunccion(listaFrutas):\n",
    "      for x in listaFrutas:\n",
    "        print(x)\n",
    "\n",
    "frutas = [\"Manzana\", \"banana\", \"cereza\"]\n",
    "\n",
    "miFunccion(frutas)"
   ]
  }
 ],
 "metadata": {
  "kernelspec": {
   "display_name": "Python 3 (ipykernel)",
   "language": "python",
   "name": "python3"
  },
  "language_info": {
   "codemirror_mode": {
    "name": "ipython",
    "version": 3
   },
   "file_extension": ".py",
   "mimetype": "text/x-python",
   "name": "python",
   "nbconvert_exporter": "python",
   "pygments_lexer": "ipython3",
   "version": "3.9.12"
  }
 },
 "nbformat": 4,
 "nbformat_minor": 5
}
