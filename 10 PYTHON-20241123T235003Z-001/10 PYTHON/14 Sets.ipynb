{
 "cells": [
  {
   "cell_type": "code",
   "execution_count": null,
   "id": "6b9f4e69",
   "metadata": {},
   "outputs": [],
   "source": [
    "\n",
    "\n",
    "\n",
    "#   SETs, conjuntos\n",
    "\n",
    "\"\"\"\n",
    "Un conjunto es una colección de elementos únicos que no está ordenada ni indexada, \n",
    "por lo que no puede estar seguro de en qué orden aparecerán los elementos. \n",
    "En Python, los conjuntos se escriben entre llaves.\n",
    "Una vez que se crea un conjunto, no puede cambiar sus elementos, pero puede agregar nuevos elementos.\n",
    "\"\"\"\n",
    "\n",
    "#   Declaración:\n",
    "\n",
    "mi_conjunto  = {\"Angel\", \"Sara\", \"Pilar\"}\n",
    "mi_conjunto2 = {\"Angel\", \"Manolo\", \"Juan\"}"
   ]
  },
  {
   "cell_type": "code",
   "execution_count": null,
   "id": "41ecf994",
   "metadata": {},
   "outputs": [],
   "source": [
    "#   Otra forma de declararlo\n",
    "\n",
    "mi_conjunto3 = set((\"Angel\", \"Sara\", \"Pilar\")) \n",
    "print(mi_conjunto3)"
   ]
  },
  {
   "cell_type": "code",
   "execution_count": null,
   "id": "3ce85949",
   "metadata": {},
   "outputs": [],
   "source": [
    "#   Para añadir un nuevo elemento:\n",
    "\n",
    "mi_conjunto.add(\"Antonio\")"
   ]
  },
  {
   "cell_type": "code",
   "execution_count": null,
   "id": "fbee5001",
   "metadata": {},
   "outputs": [],
   "source": [
    "#   Para añadir varios elementos:\n",
    "    \n",
    "mi_conjunto.update({\"Fran\", \"María\"})"
   ]
  },
  {
   "cell_type": "code",
   "execution_count": null,
   "id": "2524acf7",
   "metadata": {},
   "outputs": [],
   "source": [
    "#   Unión de colecciones. Si hay algún valor repetido sólo aparecerá una vez.\n",
    "\n",
    "union= mi_conjunto | mi_conjunto2"
   ]
  },
  {
   "cell_type": "code",
   "execution_count": null,
   "id": "852d8c35",
   "metadata": {},
   "outputs": [],
   "source": [
    "#   Intersección de conjuntos:\n",
    "\n",
    "interseccion= mi_conjunto & mi_conjunto2\n",
    "\n",
    "#   Nos crea otro conjunto con los valores que estaban duplicados en ambos conjuntos. \n",
    "#   En nuestro caso sólo Angel.\n",
    "\n",
    "#   Diferencia de conjuntos. Nos crea otro conjunto con los elementos que no están duplicados.\n",
    "\n",
    "diferencia= mi_conjunto - mi_conjunto2"
   ]
  },
  {
   "cell_type": "code",
   "execution_count": null,
   "id": "f227f20a",
   "metadata": {},
   "outputs": [],
   "source": [
    "#   Para comprobar si un elemento está en un conjunto:\n",
    "\n",
    "\"Angel\" in mi_conjunto\t\t#   Devuelve true o false"
   ]
  },
  {
   "cell_type": "code",
   "execution_count": null,
   "id": "29ff3d4f",
   "metadata": {},
   "outputs": [],
   "source": [
    "#   Recorra el conjunto e imprima los valores:\n",
    "\n",
    "miSet = {\"manzana\", \"banana\", \"cereza\"}\n",
    "\n",
    "for x in miSet:\n",
    "  print(x)\n",
    "\n",
    "\"\"\"\n",
    "No puede acceder a los elementos de un conjunto haciendo referencia a un índice, \n",
    "ya que los conjuntos no están ordenados, los elementos no tienen índice.\n",
    "\"\"\""
   ]
  },
  {
   "cell_type": "code",
   "execution_count": null,
   "id": "b03e57d9",
   "metadata": {},
   "outputs": [],
   "source": [
    "#   Obtenga la cantidad de elementos en un conjunto:\n",
    "\n",
    "miSet = {\"manzana\", \"banana\", \"cereza\"}\n",
    "\n",
    "print(len(miSet))"
   ]
  },
  {
   "cell_type": "code",
   "execution_count": null,
   "id": "8ef5274d",
   "metadata": {},
   "outputs": [],
   "source": [
    "#   Elimine \"banana\" utilizando el método remove() :\n",
    "\n",
    "miSet = {\"manzana\", \"banana\", \"cereza\"}\n",
    "\n",
    "miSet.remove(\"banana\")\n",
    "\n",
    "print(miSet)"
   ]
  },
  {
   "cell_type": "code",
   "execution_count": null,
   "id": "78e8d2f8",
   "metadata": {},
   "outputs": [],
   "source": [
    "#   Elimine \"banana\" utilizando el método discard() :\n",
    "\n",
    "miSet = {\"manzana\", \"banana\", \"cereza\"}\n",
    "\n",
    "miSet.discard(\"banana\")\n",
    "\n",
    "print(miSet)\n",
    "\n",
    "\"\"\"\n",
    "Si el elemento a eliminar no existe, remove() generará un error.\n",
    "Si el elemento a eliminar no existe, discard() NO generará un error.\n",
    "\"\"\""
   ]
  },
  {
   "cell_type": "code",
   "execution_count": null,
   "id": "3cd9db01",
   "metadata": {},
   "outputs": [],
   "source": [
    "#   Elimine el último elemento utilizando el método pop() :\n",
    "\"\"\"También puede usar el método pop() para eliminar un elemento, \n",
    "pero este método eliminará el último elemento. \n",
    "Recuerde que los conjuntos no están ordenados, \n",
    "por lo que no sabrá qué elemento se elimina.\n",
    "\"\"\"\n",
    "\n",
    "miSet = {\"manzana\", \"banana\", \"cereza\"}\n",
    "\n",
    "x = miSet.pop()\n",
    "\n",
    "print(x)\n",
    "\n",
    "print(miSet)"
   ]
  },
  {
   "cell_type": "code",
   "execution_count": 2,
   "id": "e56c29e2",
   "metadata": {},
   "outputs": [
    {
     "name": "stdout",
     "output_type": "stream",
     "text": [
      "set()\n"
     ]
    }
   ],
   "source": [
    "#   El método clear() vacía el conjunto:\n",
    "\n",
    "miSet = {\"manzana\", \"banana\", \"cereza\"}\n",
    "\n",
    "miSet.clear()\n",
    "\n",
    "print(miSet)"
   ]
  },
  {
   "cell_type": "code",
   "execution_count": 3,
   "id": "e6b86669",
   "metadata": {},
   "outputs": [
    {
     "ename": "NameError",
     "evalue": "name 'miSet' is not defined",
     "output_type": "error",
     "traceback": [
      "\u001b[1;31m---------------------------------------------------------------------------\u001b[0m",
      "\u001b[1;31mNameError\u001b[0m                                 Traceback (most recent call last)",
      "Input \u001b[1;32mIn [3]\u001b[0m, in \u001b[0;36m<cell line: 7>\u001b[1;34m()\u001b[0m\n\u001b[0;32m      3\u001b[0m miSet \u001b[38;5;241m=\u001b[39m {\u001b[38;5;124m\"\u001b[39m\u001b[38;5;124mmanzana\u001b[39m\u001b[38;5;124m\"\u001b[39m, \u001b[38;5;124m\"\u001b[39m\u001b[38;5;124mbanana\u001b[39m\u001b[38;5;124m\"\u001b[39m, \u001b[38;5;124m\"\u001b[39m\u001b[38;5;124mcereza\u001b[39m\u001b[38;5;124m\"\u001b[39m}\n\u001b[0;32m      5\u001b[0m \u001b[38;5;28;01mdel\u001b[39;00m miSet\n\u001b[1;32m----> 7\u001b[0m \u001b[38;5;28mprint\u001b[39m(\u001b[43mmiSet\u001b[49m)\n",
      "\u001b[1;31mNameError\u001b[0m: name 'miSet' is not defined"
     ]
    }
   ],
   "source": [
    "#   La palabra clave del borrará completamente el conjunto:\n",
    "\n",
    "miSet = {\"manzana\", \"banana\", \"cereza\"}\n",
    "\n",
    "del miSet\n",
    "\n",
    "print(miSet)"
   ]
  },
  {
   "cell_type": "code",
   "execution_count": null,
   "id": "ca9bc583",
   "metadata": {},
   "outputs": [],
   "source": [
    "#   Unión de conjuntos\n",
    "#   El método union() devuelve un nuevo conjunto con todos los elementos de ambos conjuntos:\n",
    "\n",
    "set1 = {\"a\", \"b\" , \"c\"}\n",
    "set2 = {1, 2, 3}\n",
    "\n",
    "set3 = set1.union(set2)\n",
    "print(set3)"
   ]
  },
  {
   "cell_type": "code",
   "execution_count": 4,
   "id": "bcfa1022",
   "metadata": {},
   "outputs": [
    {
     "name": "stdout",
     "output_type": "stream",
     "text": [
      "{1, 2, 3, 'a', 'b', 'c'}\n"
     ]
    }
   ],
   "source": [
    "#   El método update() inserta los elementos en set2 en set1:\n",
    "\n",
    "set1 = {\"a\", \"b\" , \"c\"}\n",
    "set2 = {1, 2, 3}\n",
    "\n",
    "set1.update(set2)\n",
    "print(set1)\n",
    "\n",
    "#   Tanto union() como update() excluirán cualquier elemento duplicado."
   ]
  }
 ],
 "metadata": {
  "kernelspec": {
   "display_name": "Python 3 (ipykernel)",
   "language": "python",
   "name": "python3"
  },
  "language_info": {
   "codemirror_mode": {
    "name": "ipython",
    "version": 3
   },
   "file_extension": ".py",
   "mimetype": "text/x-python",
   "name": "python",
   "nbconvert_exporter": "python",
   "pygments_lexer": "ipython3",
   "version": "3.9.12"
  }
 },
 "nbformat": 4,
 "nbformat_minor": 5
}
